{
 "cells": [
  {
   "cell_type": "code",
   "execution_count": 1,
   "metadata": {
    "vscode": {
     "languageId": "r"
    }
   },
   "outputs": [],
   "source": [
    "library(DiceKriging)\n",
    "library(triangle)\n",
    "library(boot)\n",
    "suppressMessages(suppressWarnings(library(sensitivity)))\n",
    "library(ggplot2)\n",
    "library(ggpubr)\n",
    "suppressMessages(suppressWarnings(library(fanovaGraph)))\n",
    "suppressMessages(suppressWarnings(library(randtoolbox)))"
   ]
  },
  {
   "cell_type": "code",
   "execution_count": 12,
   "metadata": {
    "vscode": {
     "languageId": "r"
    }
   },
   "outputs": [],
   "source": [
    "X <- read.csv(file=\"./data/data.csv\")\n",
    "# Y <- X$price\n",
    "set.seed(1)\n",
    "sample <- sample(c(TRUE, FALSE), nrow(X), replace=TRUE, prob=c(0.1,0.9))\n",
    "train  <- X[sample, ]\n",
    "test   <- X[!sample, ]\n",
    "Ytrain <- train$price\n",
    "Xtrain <- subset(train, replace =TRUE, select = -c(X,price))\n",
    "Xplot <- subset(train, replace =TRUE, select = -c(mobile,parking,pool,children_policy,request_count))\n",
    "\n",
    "column_name <- c(colnames(Xtrain))"
   ]
  },
  {
   "cell_type": "code",
   "execution_count": null,
   "metadata": {
    "vscode": {
     "languageId": "r"
    }
   },
   "outputs": [],
   "source": []
  }
 ],
 "metadata": {
  "kernelspec": {
   "display_name": "R",
   "language": "R",
   "name": "ir"
  },
  "language_info": {
   "codemirror_mode": "r",
   "file_extension": ".r",
   "mimetype": "text/x-r-source",
   "name": "R",
   "pygments_lexer": "r",
   "version": "4.2.1"
  },
  "orig_nbformat": 4,
  "vscode": {
   "interpreter": {
    "hash": "f3f6aeeff713559e4839ce7cc78ebdad382974543b828c2e753b1677144c220b"
   }
  }
 },
 "nbformat": 4,
 "nbformat_minor": 2
}
